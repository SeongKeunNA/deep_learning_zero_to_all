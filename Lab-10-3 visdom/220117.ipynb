{
 "cells": [
  {
   "cell_type": "markdown",
   "id": "e0419d04",
   "metadata": {},
   "source": [
    "# Lab-10-3 visdom"
   ]
  },
  {
   "cell_type": "markdown",
   "id": "71260bfd",
   "metadata": {},
   "source": [
    "### 10-3-1 Visdom Example"
   ]
  },
  {
   "cell_type": "code",
   "execution_count": 41,
   "id": "15d43c77",
   "metadata": {},
   "outputs": [],
   "source": [
    "import torch\n",
    "import torch.nn as nn\n",
    "\n",
    "import torchvision.datasets as dsets\n",
    "import torchvision.transforms as transforms\n",
    "import torch.nn.init"
   ]
  },
  {
   "cell_type": "markdown",
   "id": "deea81f1",
   "metadata": {},
   "source": [
    "### Import visdom"
   ]
  },
  {
   "cell_type": "code",
   "execution_count": 2,
   "id": "45564e73",
   "metadata": {},
   "outputs": [
    {
     "name": "stderr",
     "output_type": "stream",
     "text": [
      "Setting up a new session...\n"
     ]
    }
   ],
   "source": [
    "import visdom\n",
    "vis = visdom.Visdom()"
   ]
  },
  {
   "cell_type": "markdown",
   "id": "10475668",
   "metadata": {},
   "source": [
    "### Text"
   ]
  },
  {
   "cell_type": "code",
   "execution_count": 3,
   "id": "a34508fe",
   "metadata": {},
   "outputs": [
    {
     "data": {
      "text/plain": [
       "'window_3a59824da14b12'"
      ]
     },
     "execution_count": 3,
     "metadata": {},
     "output_type": "execute_result"
    }
   ],
   "source": [
    "vis.text('Hello, world!', env = 'main')"
   ]
  },
  {
   "cell_type": "markdown",
   "id": "64dfca35",
   "metadata": {},
   "source": [
    "### Image"
   ]
  },
  {
   "cell_type": "code",
   "execution_count": 6,
   "id": "566119bd",
   "metadata": {},
   "outputs": [
    {
     "data": {
      "text/plain": [
       "'window_3a59829ae4e90c'"
      ]
     },
     "execution_count": 6,
     "metadata": {},
     "output_type": "execute_result"
    }
   ],
   "source": [
    "a = torch.randn(3, 200, 200)\n",
    "vis.image(a)"
   ]
  },
  {
   "cell_type": "markdown",
   "id": "7d874bf1",
   "metadata": {},
   "source": [
    "### Images"
   ]
  },
  {
   "cell_type": "code",
   "execution_count": 7,
   "id": "92ac58b4",
   "metadata": {},
   "outputs": [
    {
     "data": {
      "text/plain": [
       "'window_3a5982c86bf7bc'"
      ]
     },
     "execution_count": 7,
     "metadata": {},
     "output_type": "execute_result"
    }
   ],
   "source": [
    "vis.images(torch.Tensor(3,3,28,28))"
   ]
  },
  {
   "cell_type": "markdown",
   "id": "42c8e1bd",
   "metadata": {},
   "source": [
    "### Example (using MNIST and CIFAR10)"
   ]
  },
  {
   "cell_type": "code",
   "execution_count": 9,
   "id": "958c8a34",
   "metadata": {},
   "outputs": [
    {
     "name": "stdout",
     "output_type": "stream",
     "text": [
      "Downloading http://yann.lecun.com/exdb/mnist/train-images-idx3-ubyte.gz\n",
      "Downloading http://yann.lecun.com/exdb/mnist/train-images-idx3-ubyte.gz to ./MNIST_data\\MNIST\\raw\\train-images-idx3-ubyte.gz\n"
     ]
    },
    {
     "data": {
      "application/vnd.jupyter.widget-view+json": {
       "model_id": "dac40253b68144f58aa15fe91715b754",
       "version_major": 2,
       "version_minor": 0
      },
      "text/plain": [
       "  0%|          | 0/9912422 [00:00<?, ?it/s]"
      ]
     },
     "metadata": {},
     "output_type": "display_data"
    },
    {
     "name": "stdout",
     "output_type": "stream",
     "text": [
      "Extracting ./MNIST_data\\MNIST\\raw\\train-images-idx3-ubyte.gz to ./MNIST_data\\MNIST\\raw\n",
      "\n",
      "Downloading http://yann.lecun.com/exdb/mnist/train-labels-idx1-ubyte.gz\n",
      "Downloading http://yann.lecun.com/exdb/mnist/train-labels-idx1-ubyte.gz to ./MNIST_data\\MNIST\\raw\\train-labels-idx1-ubyte.gz\n"
     ]
    },
    {
     "data": {
      "application/vnd.jupyter.widget-view+json": {
       "model_id": "c4729e42467b470398d978aae74e87b5",
       "version_major": 2,
       "version_minor": 0
      },
      "text/plain": [
       "  0%|          | 0/28881 [00:00<?, ?it/s]"
      ]
     },
     "metadata": {},
     "output_type": "display_data"
    },
    {
     "name": "stdout",
     "output_type": "stream",
     "text": [
      "Extracting ./MNIST_data\\MNIST\\raw\\train-labels-idx1-ubyte.gz to ./MNIST_data\\MNIST\\raw\n",
      "\n",
      "Downloading http://yann.lecun.com/exdb/mnist/t10k-images-idx3-ubyte.gz\n",
      "Downloading http://yann.lecun.com/exdb/mnist/t10k-images-idx3-ubyte.gz to ./MNIST_data\\MNIST\\raw\\t10k-images-idx3-ubyte.gz\n"
     ]
    },
    {
     "data": {
      "application/vnd.jupyter.widget-view+json": {
       "model_id": "dc66ecaf997c4d6cafa07e7012131d97",
       "version_major": 2,
       "version_minor": 0
      },
      "text/plain": [
       "  0%|          | 0/1648877 [00:00<?, ?it/s]"
      ]
     },
     "metadata": {},
     "output_type": "display_data"
    },
    {
     "name": "stdout",
     "output_type": "stream",
     "text": [
      "Extracting ./MNIST_data\\MNIST\\raw\\t10k-images-idx3-ubyte.gz to ./MNIST_data\\MNIST\\raw\n",
      "\n",
      "Downloading http://yann.lecun.com/exdb/mnist/t10k-labels-idx1-ubyte.gz\n",
      "Downloading http://yann.lecun.com/exdb/mnist/t10k-labels-idx1-ubyte.gz to ./MNIST_data\\MNIST\\raw\\t10k-labels-idx1-ubyte.gz\n"
     ]
    },
    {
     "data": {
      "application/vnd.jupyter.widget-view+json": {
       "model_id": "f18e07658cce4597ae07e83f589b5f68",
       "version_major": 2,
       "version_minor": 0
      },
      "text/plain": [
       "  0%|          | 0/4542 [00:00<?, ?it/s]"
      ]
     },
     "metadata": {},
     "output_type": "display_data"
    },
    {
     "name": "stdout",
     "output_type": "stream",
     "text": [
      "Extracting ./MNIST_data\\MNIST\\raw\\t10k-labels-idx1-ubyte.gz to ./MNIST_data\\MNIST\\raw\n",
      "\n",
      "Downloading https://www.cs.toronto.edu/~kriz/cifar-10-python.tar.gz to ./cifar10\\cifar-10-python.tar.gz\n"
     ]
    },
    {
     "data": {
      "application/vnd.jupyter.widget-view+json": {
       "model_id": "db06591f637e4c9888714b9bba20a355",
       "version_major": 2,
       "version_minor": 0
      },
      "text/plain": [
       "  0%|          | 0/170498071 [00:00<?, ?it/s]"
      ]
     },
     "metadata": {},
     "output_type": "display_data"
    },
    {
     "name": "stdout",
     "output_type": "stream",
     "text": [
      "Extracting ./cifar10\\cifar-10-python.tar.gz to ./cifar10\n"
     ]
    }
   ],
   "source": [
    "MNIST = dsets.MNIST(root = './MNIST_data', train = True, transform = torchvision.transforms.ToTensor(), download = True)\n",
    "cifar10 = dsets.CIFAR10(root = './cifar10', train = True, transform = torchvision.transforms.ToTensor(), download = True)"
   ]
  },
  {
   "cell_type": "markdown",
   "id": "d149c1dd",
   "metadata": {},
   "source": [
    "### CIFAR10"
   ]
  },
  {
   "cell_type": "code",
   "execution_count": 10,
   "id": "73ba68ac",
   "metadata": {},
   "outputs": [
    {
     "name": "stdout",
     "output_type": "stream",
     "text": [
      "torch.Size([3, 32, 32])\n"
     ]
    },
    {
     "data": {
      "text/plain": [
       "'window_3a59845b55d9c8'"
      ]
     },
     "execution_count": 10,
     "metadata": {},
     "output_type": "execute_result"
    }
   ],
   "source": [
    "data = cifar10.__getitem__(0)\n",
    "print(data[0].shape)\n",
    "vis.images(data[0], env='main')"
   ]
  },
  {
   "cell_type": "markdown",
   "id": "eb4e1863",
   "metadata": {},
   "source": [
    "### MNIST"
   ]
  },
  {
   "cell_type": "code",
   "execution_count": 11,
   "id": "bc3082d4",
   "metadata": {},
   "outputs": [
    {
     "name": "stdout",
     "output_type": "stream",
     "text": [
      "torch.Size([1, 28, 28])\n"
     ]
    },
    {
     "data": {
      "text/plain": [
       "'window_3a598490da386a'"
      ]
     },
     "execution_count": 11,
     "metadata": {},
     "output_type": "execute_result"
    }
   ],
   "source": [
    "data = MNIST.__getitem__(0)\n",
    "print(data[0].shape)\n",
    "vis.images(data[0], env='main')"
   ]
  },
  {
   "cell_type": "markdown",
   "id": "04eeb5c2",
   "metadata": {},
   "source": [
    "### Check dataset"
   ]
  },
  {
   "cell_type": "code",
   "execution_count": 14,
   "id": "12acaea4",
   "metadata": {},
   "outputs": [],
   "source": [
    "data_loader = torch.utils.data.DataLoader(dataset = MNIST,\n",
    "                                          batch_size = 32,\n",
    "                                          shuffle = False)"
   ]
  },
  {
   "cell_type": "code",
   "execution_count": 15,
   "id": "d6e5b13b",
   "metadata": {},
   "outputs": [
    {
     "name": "stdout",
     "output_type": "stream",
     "text": [
      "torch.Size([32, 1, 28, 28])\n"
     ]
    }
   ],
   "source": [
    "for num, value in enumerate(data_loader):\n",
    "    value = value[0]\n",
    "    print(value.shape)\n",
    "    vis.images(value)\n",
    "    break"
   ]
  },
  {
   "cell_type": "markdown",
   "id": "1ae14bdc",
   "metadata": {},
   "source": [
    "### Line Plot"
   ]
  },
  {
   "cell_type": "code",
   "execution_count": 20,
   "id": "bbe16d1f",
   "metadata": {},
   "outputs": [],
   "source": [
    "Y_data = torch.randn(5)\n",
    "plt = vis.line(Y=Y_data)"
   ]
  },
  {
   "cell_type": "code",
   "execution_count": 21,
   "id": "54b2a9ab",
   "metadata": {},
   "outputs": [],
   "source": [
    "X_data = torch.Tensor([1,2,3,4,5])\n",
    "plt = vis.line(Y=Y_data, X=X_data)"
   ]
  },
  {
   "cell_type": "markdown",
   "id": "6da5f684",
   "metadata": {},
   "source": [
    "### Line update"
   ]
  },
  {
   "cell_type": "code",
   "execution_count": 25,
   "id": "1cadfc14",
   "metadata": {},
   "outputs": [
    {
     "data": {
      "text/plain": [
       "'window_3a5985848d38e0'"
      ]
     },
     "execution_count": 25,
     "metadata": {},
     "output_type": "execute_result"
    }
   ],
   "source": [
    "Y_append = torch.randn(1)\n",
    "X_append = torch.Tensor([6])\n",
    "\n",
    "vis.line(Y=Y_append, X=X_append, win=plt, update ='append')"
   ]
  },
  {
   "cell_type": "markdown",
   "id": "95a5f8bf",
   "metadata": {},
   "source": [
    "### Multiple Line on single windows"
   ]
  },
  {
   "cell_type": "code",
   "execution_count": 28,
   "id": "0adb43b2",
   "metadata": {},
   "outputs": [],
   "source": [
    "num = torch.Tensor(list(range(0, 10)))\n",
    "num = num.view(-1,1)\n",
    "num = torch.cat((num,num), dim=1)\n",
    "\n",
    "plt = vis.line(Y=torch.randn(10,2), X = num)"
   ]
  },
  {
   "cell_type": "markdown",
   "id": "45d3ff60",
   "metadata": {},
   "source": [
    "### Line info"
   ]
  },
  {
   "cell_type": "code",
   "execution_count": 31,
   "id": "000a7e9b",
   "metadata": {},
   "outputs": [],
   "source": [
    "plt = vis.line(Y = Y_data, X = X_data, opts = dict(title='Test', showlegend=True))"
   ]
  },
  {
   "cell_type": "code",
   "execution_count": 36,
   "id": "b0bf30a6",
   "metadata": {},
   "outputs": [],
   "source": [
    "plt = vis.line(Y = Y_data, X = X_data, opts = dict(title='Test', legend = ['1번'], showlegend=True))"
   ]
  },
  {
   "cell_type": "code",
   "execution_count": 37,
   "id": "75dfc616",
   "metadata": {},
   "outputs": [],
   "source": [
    "plt = vis.line(Y = torch.randn(10,2), X = num, opts = dict(title='Test', legend=['1번',  '2번'],showlegend=True))"
   ]
  },
  {
   "cell_type": "markdown",
   "id": "c97000eb",
   "metadata": {},
   "source": [
    "### make function for update line"
   ]
  },
  {
   "cell_type": "code",
   "execution_count": 38,
   "id": "bd14679c",
   "metadata": {},
   "outputs": [],
   "source": [
    "def loss_tracker(loss_plot, loss_value, num):\n",
    "    # num, loss_value are Tensor\n",
    "    vis.line(X=num,\n",
    "             Y=loss_value,\n",
    "             win = loss_plot,\n",
    "             update='append'\n",
    "            )"
   ]
  },
  {
   "cell_type": "code",
   "execution_count": 39,
   "id": "fcc9fcf7",
   "metadata": {},
   "outputs": [],
   "source": [
    "plt = vis.line(Y=torch.Tensor(1).zero_())\n",
    "\n",
    "for i in range(500):\n",
    "    loss = torch.randn(1)+i\n",
    "    loss_tracker(plt, loss, torch.Tensor([i]))"
   ]
  },
  {
   "cell_type": "code",
   "execution_count": 40,
   "id": "baaf6777",
   "metadata": {},
   "outputs": [
    {
     "data": {
      "text/plain": [
       "''"
      ]
     },
     "execution_count": 40,
     "metadata": {},
     "output_type": "execute_result"
    }
   ],
   "source": [
    "vis.close(env = 'main')"
   ]
  },
  {
   "cell_type": "markdown",
   "id": "4523f810",
   "metadata": {},
   "source": [
    "# 10-3 MNIST-CNN with Visdom"
   ]
  },
  {
   "cell_type": "code",
   "execution_count": 42,
   "id": "ca1b87ff",
   "metadata": {},
   "outputs": [],
   "source": [
    "import torch\n",
    "import torch.nn as nn\n",
    "\n",
    "import torchvision.datasets as dsets\n",
    "import torchvision.transforms as transforms\n",
    "import torch.nn.init"
   ]
  },
  {
   "cell_type": "markdown",
   "id": "20886ff2",
   "metadata": {},
   "source": [
    "### Import visdom"
   ]
  },
  {
   "cell_type": "code",
   "execution_count": 59,
   "id": "a81ae4a1",
   "metadata": {},
   "outputs": [
    {
     "name": "stderr",
     "output_type": "stream",
     "text": [
      "Setting up a new session...\n"
     ]
    },
    {
     "data": {
      "text/plain": [
       "''"
      ]
     },
     "execution_count": 59,
     "metadata": {},
     "output_type": "execute_result"
    }
   ],
   "source": [
    "import visdom\n",
    "\n",
    "vis = visdom.Visdom()\n",
    "vis.close(env='main')"
   ]
  },
  {
   "cell_type": "markdown",
   "id": "50b7c68f",
   "metadata": {},
   "source": [
    "### Define loss_tracker"
   ]
  },
  {
   "cell_type": "code",
   "execution_count": 60,
   "id": "6e107b77",
   "metadata": {},
   "outputs": [],
   "source": [
    "def loss_tracker(loss_plot, loss_value, num):\n",
    "    # num, loss_value are Tensor\n",
    "    vis.line(X=num,\n",
    "             Y=loss_value,\n",
    "             win = loss_plot,\n",
    "             update='append'\n",
    "            )"
   ]
  },
  {
   "cell_type": "markdown",
   "id": "66842801",
   "metadata": {},
   "source": [
    "### CNN"
   ]
  },
  {
   "cell_type": "code",
   "execution_count": 45,
   "id": "9424cfee",
   "metadata": {},
   "outputs": [],
   "source": [
    "device = 'cuda' if torch.cuda.is_available() else 'cpu'\n",
    "\n",
    "torch.manual_seed(777)\n",
    "if device == 'cuda':\n",
    "    torch.cuda.manual_seed_all(777)"
   ]
  },
  {
   "cell_type": "code",
   "execution_count": 46,
   "id": "266920bc",
   "metadata": {},
   "outputs": [],
   "source": [
    "learning_rate = 0.001\n",
    "training_epochs = 15\n",
    "batch_size = 100"
   ]
  },
  {
   "cell_type": "code",
   "execution_count": 47,
   "id": "c003eecc",
   "metadata": {},
   "outputs": [],
   "source": [
    "# MNIST dataset\n",
    "\n",
    "mnist_train = dsets.MNIST(root='MNIST_data/',\n",
    "                         train = True,\n",
    "                         transform = transforms.ToTensor(),\n",
    "                         download = True)\n",
    "mnist_test = dsets.MNIST(root = 'MNIST_data/',\n",
    "                         train = False,\n",
    "                         transform = transforms.ToTensor(),\n",
    "                         download = True)"
   ]
  },
  {
   "cell_type": "code",
   "execution_count": 48,
   "id": "678ec4a7",
   "metadata": {},
   "outputs": [],
   "source": [
    "data_loader = torch.utils.data.DataLoader(dataset = mnist_train,\n",
    "                                          batch_size = batch_size,\n",
    "                                          shuffle = True,\n",
    "                                          drop_last = True)"
   ]
  },
  {
   "cell_type": "code",
   "execution_count": 49,
   "id": "60d41db8",
   "metadata": {},
   "outputs": [],
   "source": [
    "class CNN(nn.Module):\n",
    "    \n",
    "    def __init__(self):\n",
    "        super(CNN, self).__init__() \n",
    "        self.layer1 = nn.Sequential(\n",
    "            nn.Conv2d(1, 32, kernel_size = 3, stride = 1, padding = 1),\n",
    "            nn.ReLU(),\n",
    "            nn.MaxPool2d(2)\n",
    "        )\n",
    "        \n",
    "        self.layer2 = nn.Sequential(\n",
    "            nn.Conv2d(32, 64, kernel_size = 3, stride=1, padding =1),\n",
    "            nn.ReLU(),\n",
    "            nn.MaxPool2d(2)\n",
    "        )\n",
    "            \n",
    "            \n",
    "        self.layer3 = nn.Sequential(\n",
    "            nn.Conv2d(64, 128, kernel_size = 3, stride=1, padding=1),\n",
    "            nn.ReLU(),\n",
    "            nn.MaxPool2d(2)\n",
    "        )\n",
    "        \n",
    "        \n",
    "        self.fc1 = nn.Linear(3*3*128, 625) \n",
    "        self.relu = nn.ReLU()        \n",
    "        self.fc2 = nn.Linear(625, 10, bias =True)\n",
    "        torch.nn.init.xavier_uniform_(self.fc1.weight)\n",
    "        torch.nn.init.xavier_uniform_(self.fc2.weight)\n",
    "        \n",
    "    def forward(self, x):\n",
    "        out = self.layer1(x)\n",
    "        out = self.layer2(out)\n",
    "        out = self.layer3(out)\n",
    "        \n",
    "        out = out.view(out.size(0), -1)\n",
    "        out = self.fc1(out)\n",
    "        out = self.relu(out)\n",
    "        out = self.fc2(out)\n",
    "        return out"
   ]
  },
  {
   "cell_type": "code",
   "execution_count": 50,
   "id": "0519eb22",
   "metadata": {},
   "outputs": [],
   "source": [
    "model = CNN().to(device)"
   ]
  },
  {
   "cell_type": "code",
   "execution_count": 51,
   "id": "fd9986dd",
   "metadata": {},
   "outputs": [
    {
     "name": "stdout",
     "output_type": "stream",
     "text": [
      "tensor([[ 5.1100e+16,  3.8152e+17, -6.1219e+17,  2.9240e+17,  1.3782e+17,\n",
      "          4.7368e+17, -1.0012e+18, -3.8013e+16,  8.3217e+16,  9.5133e+17]],\n",
      "       device='cuda:0', grad_fn=<AddmmBackward0>)\n"
     ]
    }
   ],
   "source": [
    "model\n",
    "value = torch.Tensor(1,1,28,28).to(device)\n",
    "print( (model(value)) )"
   ]
  },
  {
   "cell_type": "code",
   "execution_count": 52,
   "id": "fd25a760",
   "metadata": {},
   "outputs": [],
   "source": [
    "criterion = nn.CrossEntropyLoss().to(device)\n",
    "optimizer = torch.optim.Adam(model.parameters(), lr = learning_rate)"
   ]
  },
  {
   "cell_type": "markdown",
   "id": "e3aba159",
   "metadata": {},
   "source": [
    "### Make plot"
   ]
  },
  {
   "cell_type": "code",
   "execution_count": 53,
   "id": "aff5fa69",
   "metadata": {},
   "outputs": [],
   "source": [
    "loss_plt = vis.line(Y=torch.Tensor(1).zero_(), opts = dict(title='loss tracker', legend=['loss'], showlegend=True))"
   ]
  },
  {
   "cell_type": "markdown",
   "id": "17fdafa6",
   "metadata": {},
   "source": [
    "### Train with loss_tracker"
   ]
  },
  {
   "cell_type": "code",
   "execution_count": 61,
   "id": "7c6a658a",
   "metadata": {},
   "outputs": [
    {
     "name": "stdout",
     "output_type": "stream",
     "text": [
      "[Epoch: 1] cost = 0.005113804712891579\n",
      "[Epoch: 2] cost = 0.0055962735787034035\n",
      "[Epoch: 3] cost = 0.004859673324972391\n",
      "[Epoch: 4] cost = 0.0032735804561525583\n",
      "[Epoch: 5] cost = 0.004115603398531675\n",
      "[Epoch: 6] cost = 0.006070964504033327\n",
      "[Epoch: 7] cost = 0.003521468723192811\n",
      "[Epoch: 8] cost = 0.004566838964819908\n",
      "[Epoch: 9] cost = 0.002439166186377406\n",
      "[Epoch: 10] cost = 0.004232680890709162\n",
      "[Epoch: 11] cost = 0.0020350124686956406\n",
      "[Epoch: 12] cost = 0.0026155486702919006\n",
      "[Epoch: 13] cost = 0.004212360829114914\n",
      "[Epoch: 14] cost = 0.0015908972127363086\n",
      "[Epoch: 15] cost = 0.0034409677609801292\n",
      "Learning Finished\n"
     ]
    }
   ],
   "source": [
    "# training\n",
    "total_batch = len(data_loader)\n",
    "\n",
    "for epoch in range(training_epochs):\n",
    "    avg_cost = 0\n",
    "    \n",
    "    for X, Y in data_loader:\n",
    "        X = X.to(device)\n",
    "        Y = Y.to(device)\n",
    "        \n",
    "        optimizer.zero_grad()\n",
    "        hypothesis = model(X)\n",
    "        \n",
    "        cost = criterion(hypothesis, Y)\n",
    "        cost.backward()\n",
    "        optimizer.step()\n",
    "        \n",
    "        avg_cost +=cost / total_batch\n",
    "        \n",
    "    print('[Epoch: {}] cost = {}'.format(epoch+1, avg_cost))\n",
    "    loss_tracker(loss_plt, torch.Tensor([avg_cost]), torch.Tensor([epoch]))\n",
    "print('Learning Finished')"
   ]
  },
  {
   "cell_type": "code",
   "execution_count": 62,
   "id": "403a3e0b",
   "metadata": {},
   "outputs": [
    {
     "name": "stdout",
     "output_type": "stream",
     "text": [
      "Accuracy: 0.9869999885559082\n"
     ]
    }
   ],
   "source": [
    "with torch.no_grad():\n",
    "    X_test = mnist_test.test_data.view(len(mnist_test), 1, 28, 28).float().to(device)\n",
    "    Y_test = mnist_test.test_labels.to(device)\n",
    "    \n",
    "    prediction = model(X_test)\n",
    "    correct_prediction = torch.argmax(prediction, 1) == Y_test\n",
    "    accuracy = correct_prediction.float().mean()\n",
    "    print('Accuracy:', accuracy.item())"
   ]
  }
 ],
 "metadata": {
  "kernelspec": {
   "display_name": "pytorch",
   "language": "python",
   "name": "pt1.1"
  },
  "language_info": {
   "codemirror_mode": {
    "name": "ipython",
    "version": 3
   },
   "file_extension": ".py",
   "mimetype": "text/x-python",
   "name": "python",
   "nbconvert_exporter": "python",
   "pygments_lexer": "ipython3",
   "version": "3.9.7"
  }
 },
 "nbformat": 4,
 "nbformat_minor": 5
}
