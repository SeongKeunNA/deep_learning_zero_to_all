{
 "cells": [
  {
   "cell_type": "markdown",
   "id": "cc95c3ce",
   "metadata": {},
   "source": [
    "# Lab-11-6 RNN PackedSequence"
   ]
  },
  {
   "cell_type": "markdown",
   "id": "11f1d144",
   "metadata": {},
   "source": [
    "sequential data: 주로 unfixed size"
   ]
  },
  {
   "cell_type": "markdown",
   "id": "4df52622",
   "metadata": {},
   "source": [
    "### 1.Padding Method"
   ]
  },
  {
   "cell_type": "markdown",
   "id": "1d8729d8",
   "metadata": {},
   "source": [
    "배치 내 가장 긴 시퀀스에 길이를 맞추어 다른 시퀀스 뒤에 pad 토큰을 추가함."
   ]
  },
  {
   "cell_type": "markdown",
   "id": "ec119230",
   "metadata": {},
   "source": [
    "장점: 가장 긴 시퀀스 x 배치사이즈라는 하나의 사이즈로 표현 가능하여 처리가 간단함"
   ]
  },
  {
   "cell_type": "markdown",
   "id": "ad9d4903",
   "metadata": {},
   "source": [
    "단점: 패드 부분은 계산하지 않아도 되지만 계산하게 됨."
   ]
  },
  {
   "cell_type": "markdown",
   "id": "a195c98f",
   "metadata": {},
   "source": [
    "### 2.Packing Method"
   ]
  },
  {
   "cell_type": "markdown",
   "id": "1a96861f",
   "metadata": {},
   "source": [
    "시퀀스 길이에 대한 정보를 가지고 있음.(pack-sequence 자료구조)"
   ]
  },
  {
   "cell_type": "markdown",
   "id": "c86dff47",
   "metadata": {},
   "source": [
    "장점: 패딩 방법에 비해 효율적이고 토큰 필요 없음"
   ]
  },
  {
   "cell_type": "markdown",
   "id": "daca39a2",
   "metadata": {},
   "source": [
    "단점: 길이 내림차순으로 정렬해야하고 구현이 패딩 방법에 비해 조금 더 어려움"
   ]
  },
  {
   "cell_type": "markdown",
   "id": "81a67cfc",
   "metadata": {},
   "source": [
    "### 파이토치 구현"
   ]
  },
  {
   "cell_type": "code",
   "execution_count": null,
   "id": "05d8ac3f",
   "metadata": {},
   "outputs": [],
   "source": [
    "pack_sequence, pad_sequence, pad_packed_sequence, pack_padded_sequence"
   ]
  }
 ],
 "metadata": {
  "kernelspec": {
   "display_name": "pytorch",
   "language": "python",
   "name": "pt1.1"
  },
  "language_info": {
   "codemirror_mode": {
    "name": "ipython",
    "version": 3
   },
   "file_extension": ".py",
   "mimetype": "text/x-python",
   "name": "python",
   "nbconvert_exporter": "python",
   "pygments_lexer": "ipython3",
   "version": "3.9.7"
  }
 },
 "nbformat": 4,
 "nbformat_minor": 5
}
