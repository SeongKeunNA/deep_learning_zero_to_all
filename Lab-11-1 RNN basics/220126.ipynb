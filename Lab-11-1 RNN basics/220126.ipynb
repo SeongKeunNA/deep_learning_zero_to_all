{
 "cells": [
  {
   "cell_type": "markdown",
   "id": "40fb06f9",
   "metadata": {},
   "source": [
    "# Lab-11-1 RNN basics"
   ]
  },
  {
   "cell_type": "markdown",
   "id": "9541984a",
   "metadata": {},
   "source": [
    "### Example: Run"
   ]
  },
  {
   "cell_type": "code",
   "execution_count": 1,
   "id": "a37ef152",
   "metadata": {},
   "outputs": [],
   "source": [
    "import torch\n",
    "import numpy as np"
   ]
  },
  {
   "cell_type": "code",
   "execution_count": null,
   "id": "44c005d3",
   "metadata": {},
   "outputs": [],
   "source": [
    "# input_data의 shape(-, -, -): batch_size, sequence_length, input_size(글자를 표헌하기 위함)\n",
    "# out_data의 shaep(-, -, -): batch_size, sequence_length, hidden_size(표현하고자 하는 결과의 가짓수)"
   ]
  },
  {
   "cell_type": "code",
   "execution_count": 2,
   "id": "651b6df3",
   "metadata": {},
   "outputs": [],
   "source": [
    "input_size = 4\n",
    "hidden_size = 2"
   ]
  },
  {
   "cell_type": "code",
   "execution_count": 3,
   "id": "cdabff14",
   "metadata": {},
   "outputs": [],
   "source": [
    "# 1-hot encoding\n",
    "h = [1, 0, 0, 0]\n",
    "e = [0, 1, 0, 0]\n",
    "l = [0, 0, 1 ,0]\n",
    "o = [0, 0, 0, 1]\n",
    "input_data_np = np.array([[h, e, l, l, o],\n",
    "                          [e, o, l, l, l],\n",
    "                          [l, l, e, e, l]], dtype = np.float32)\n",
    "\n",
    "# transform as torch tensor\n",
    "input_data = torch.Tensor(input_data_np)\n",
    "\n",
    "rnn = torch.nn.RNN(input_size, hidden_size)\n",
    "\n",
    "outputs, _status = rnn(input_data)"
   ]
  },
  {
   "cell_type": "code",
   "execution_count": 4,
   "id": "25bec5ea",
   "metadata": {},
   "outputs": [
    {
     "name": "stdout",
     "output_type": "stream",
     "text": [
      "tensor([[[-0.0959, -0.4536],\n",
      "         [ 0.3508, -0.7896],\n",
      "         [-0.6745, -0.8673],\n",
      "         [-0.6745, -0.8673],\n",
      "         [-0.7518, -0.9007]],\n",
      "\n",
      "        [[ 0.6004, -0.8335],\n",
      "         [-0.5497, -0.9665],\n",
      "         [ 0.0071, -0.8485],\n",
      "         [ 0.0071, -0.8485],\n",
      "         [ 0.0597, -0.8381]],\n",
      "\n",
      "        [[-0.4882, -0.9682],\n",
      "         [ 0.0193, -0.8795],\n",
      "         [ 0.7177, -0.8923],\n",
      "         [ 0.7177, -0.8923],\n",
      "         [-0.3009, -0.9372]]], grad_fn=<StackBackward0>)\n",
      "tensor([[[-0.4882, -0.9682],\n",
      "         [ 0.0193, -0.8795],\n",
      "         [ 0.7177, -0.8923],\n",
      "         [ 0.7177, -0.8923],\n",
      "         [-0.3009, -0.9372]]], grad_fn=<StackBackward0>)\n"
     ]
    }
   ],
   "source": [
    "print(outputs)\n",
    "print(_status)"
   ]
  }
 ],
 "metadata": {
  "kernelspec": {
   "display_name": "pytorch",
   "language": "python",
   "name": "pt1.1"
  },
  "language_info": {
   "codemirror_mode": {
    "name": "ipython",
    "version": 3
   },
   "file_extension": ".py",
   "mimetype": "text/x-python",
   "name": "python",
   "nbconvert_exporter": "python",
   "pygments_lexer": "ipython3",
   "version": "3.9.7"
  }
 },
 "nbformat": 4,
 "nbformat_minor": 5
}
