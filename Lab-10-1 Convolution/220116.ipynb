{
 "cells": [
  {
   "cell_type": "markdown",
   "id": "8c3b75b4",
   "metadata": {},
   "source": [
    "# Lab-10-1 Convolution"
   ]
  },
  {
   "cell_type": "code",
   "execution_count": null,
   "id": "4067971d",
   "metadata": {},
   "outputs": [],
   "source": [
    "import torch\n",
    "import torch.nn as nn"
   ]
  },
  {
   "cell_type": "markdown",
   "id": "2b3cbee4",
   "metadata": {},
   "source": [
    "### convolution"
   ]
  },
  {
   "cell_type": "code",
   "execution_count": 5,
   "id": "afaba675",
   "metadata": {},
   "outputs": [
    {
     "data": {
      "text/plain": [
       "torch.Size([1, 1, 55, 55])"
      ]
     },
     "execution_count": 5,
     "metadata": {},
     "output_type": "execute_result"
    }
   ],
   "source": [
    "#예제 1\n",
    "conv = nn.Conv2d(1, 1, 11, stride = 4, padding = 0)\n",
    "inputs = torch.Tensor(1, 1 ,227,227)\n",
    "out = conv(inputs)\n",
    "out.shape"
   ]
  },
  {
   "cell_type": "code",
   "execution_count": 9,
   "id": "7d47197d",
   "metadata": {},
   "outputs": [
    {
     "data": {
      "text/plain": [
       "torch.Size([1, 1, 29, 29])"
      ]
     },
     "execution_count": 9,
     "metadata": {},
     "output_type": "execute_result"
    }
   ],
   "source": [
    "#예제 2\n",
    "conv = nn.Conv2d(1, 1, 7, stride = 2, padding = 0)\n",
    "inputs = torch.Tensor(1, 1 ,64, 64)\n",
    "out = conv(inputs)\n",
    "out.shape"
   ]
  },
  {
   "cell_type": "code",
   "execution_count": 10,
   "id": "82542a98",
   "metadata": {},
   "outputs": [
    {
     "data": {
      "text/plain": [
       "torch.Size([1, 1, 32, 32])"
      ]
     },
     "execution_count": 10,
     "metadata": {},
     "output_type": "execute_result"
    }
   ],
   "source": [
    "#예제 3\n",
    "conv = nn.Conv2d(1, 1, 5, stride = 1, padding = 2)\n",
    "inputs = torch.Tensor(1, 1, 32, 32)\n",
    "out = conv(inputs)\n",
    "out.shape"
   ]
  },
  {
   "cell_type": "code",
   "execution_count": 8,
   "id": "91db1d93",
   "metadata": {},
   "outputs": [
    {
     "data": {
      "text/plain": [
       "torch.Size([1, 1, 28, 60])"
      ]
     },
     "execution_count": 8,
     "metadata": {},
     "output_type": "execute_result"
    }
   ],
   "source": [
    "#예제 4\n",
    "conv = nn.Conv2d(1, 1, 5, stride = 1, padding = 0)\n",
    "inputs = torch.Tensor(1, 1 ,32, 64)\n",
    "out = conv(inputs)\n",
    "out.shape"
   ]
  },
  {
   "cell_type": "code",
   "execution_count": 11,
   "id": "cd925ab7",
   "metadata": {},
   "outputs": [
    {
     "data": {
      "text/plain": [
       "torch.Size([1, 1, 64, 32])"
      ]
     },
     "execution_count": 11,
     "metadata": {},
     "output_type": "execute_result"
    }
   ],
   "source": [
    "#예제 5\n",
    "conv = nn.Conv2d(1, 1, 3, stride = 1, padding = 1)\n",
    "inputs = torch.Tensor(1, 1, 64, 32)\n",
    "out = conv(inputs)\n",
    "out.shape"
   ]
  },
  {
   "cell_type": "markdown",
   "id": "e7b2ec6c",
   "metadata": {},
   "source": [
    "### pool"
   ]
  },
  {
   "cell_type": "code",
   "execution_count": 13,
   "id": "a453fc6e",
   "metadata": {},
   "outputs": [
    {
     "data": {
      "text/plain": [
       "(torch.Size([1, 5, 24, 24]), torch.Size([1, 5, 12, 12]))"
      ]
     },
     "execution_count": 13,
     "metadata": {},
     "output_type": "execute_result"
    }
   ],
   "source": [
    "#예제\n",
    "inputs = torch.Tensor(1, 1, 28, 28)\n",
    "conv1 = nn.Conv2d(1, 5, 5)\n",
    "pool = nn.MaxPool2d(2)\n",
    "out = conv1(inputs)\n",
    "out2 = pool(out)\n",
    "out.size(), out2.size()"
   ]
  },
  {
   "cell_type": "code",
   "execution_count": null,
   "id": "b489e83a",
   "metadata": {},
   "outputs": [],
   "source": []
  }
 ],
 "metadata": {
  "kernelspec": {
   "display_name": "Python 3",
   "language": "python",
   "name": "python3"
  },
  "language_info": {
   "codemirror_mode": {
    "name": "ipython",
    "version": 3
   },
   "file_extension": ".py",
   "mimetype": "text/x-python",
   "name": "python",
   "nbconvert_exporter": "python",
   "pygments_lexer": "ipython3",
   "version": "3.8.8"
  }
 },
 "nbformat": 4,
 "nbformat_minor": 5
}
