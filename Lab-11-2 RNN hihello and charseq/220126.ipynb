{
 "cells": [
  {
   "cell_type": "markdown",
   "id": "e5cda5f8",
   "metadata": {},
   "source": [
    "# Lab-11-2 RNN hihello and charseq"
   ]
  },
  {
   "cell_type": "markdown",
   "id": "521ac099",
   "metadata": {},
   "source": [
    "### 'hihello' problem"
   ]
  },
  {
   "cell_type": "markdown",
   "id": "d3262b38",
   "metadata": {},
   "source": [
    "'h', 'i', 'h', 'e', 'l', 'l', 'o'"
   ]
  },
  {
   "cell_type": "markdown",
   "id": "04dade3f",
   "metadata": {},
   "source": [
    "We will predict the next character!"
   ]
  },
  {
   "cell_type": "markdown",
   "id": "c5ea0803",
   "metadata": {},
   "source": [
    "How can we represent characters in pyTorch?"
   ]
  },
  {
   "cell_type": "markdown",
   "id": "1bde43f7",
   "metadata": {},
   "source": [
    "We can represent them by index"
   ]
  },
  {
   "cell_type": "markdown",
   "id": "84483e79",
   "metadata": {},
   "source": [
    "'h' -> 0<br>\n",
    "'i' -> 1<br>\n",
    "'e' -> 2<br>\n",
    "'l' -> 3<br>\n",
    "'o' -> 4"
   ]
  },
  {
   "cell_type": "code",
   "execution_count": 2,
   "id": "29bd292f",
   "metadata": {},
   "outputs": [],
   "source": [
    "# list of avialable characters\n",
    "char_set = ['h', 'i', 'e', 'l', 'o']"
   ]
  },
  {
   "cell_type": "markdown",
   "id": "3057effe",
   "metadata": {},
   "source": [
    "But, continuous 하지 않고 categotical한 데이터를 표현하고자 할 때는 주로 one-hot encoing 사용"
   ]
  },
  {
   "cell_type": "code",
   "execution_count": null,
   "id": "93566639",
   "metadata": {},
   "outputs": [],
   "source": [
    "# list of avialable characters\n",
    "char_set = ['h', 'i', 'e', 'l', 'o']\n",
    "x_data = [[0, 1, 0, 2, 3, 3]]\n",
    "x_one_hot = [[[1, 0, 0, 0, 0],\n",
    "             [0, 1, 0, 0, 0],\n",
    "             [1, 0, 0, 0, 0],\n",
    "             [0, 0, 1, 0, 0],\n",
    "             [0, 0, 0, 1, 0],\n",
    "             [0, 0, 0, 1, 0]]]\n",
    "y_data =  [[1, 0, 2, 3, 3, 4]]\n",
    "\n",
    "# x_data는 입력이므로 마지막 'o' 표시 x\n",
    "# y_data는 출력이므로 처음 'h' 표시 x"
   ]
  },
  {
   "cell_type": "markdown",
   "id": "c4986a9a",
   "metadata": {},
   "source": [
    "### Cross Entropy Loss"
   ]
  },
  {
   "cell_type": "markdown",
   "id": "a9c25c1f",
   "metadata": {},
   "source": [
    "loss for categorical output (usuallt interpreted as probability)"
   ]
  },
  {
   "cell_type": "markdown",
   "id": "f9611185",
   "metadata": {},
   "source": [
    "model -> output :[[0.1], [0.2], [0.3], [0.4]] label: [0, 0, 0, 1]"
   ]
  },
  {
   "cell_type": "markdown",
   "id": "1c2e2bd8",
   "metadata": {},
   "source": [
    "# loss & optimizer setting\n",
    "criterion = torch.nn.CrossEntropyLoss()"
   ]
  },
  {
   "cell_type": "markdown",
   "id": "b27ce942",
   "metadata": {},
   "source": [
    "..."
   ]
  },
  {
   "cell_type": "markdown",
   "id": "29a6015e",
   "metadata": {},
   "source": [
    "loss = criterion(outputs.view(-1, input_size), Y.view(-1))"
   ]
  },
  {
   "cell_type": "code",
   "execution_count": 3,
   "id": "64bc320b",
   "metadata": {},
   "outputs": [],
   "source": [
    "# 첫 번째 파라미터: 모델의 아웃풋\n",
    "# 두 번째 파라미터: 정답 레이블"
   ]
  },
  {
   "cell_type": "markdown",
   "id": "c1cfa604",
   "metadata": {},
   "source": [
    "### Code run through (hihello)"
   ]
  },
  {
   "cell_type": "code",
   "execution_count": 5,
   "id": "a7bd6eab",
   "metadata": {},
   "outputs": [],
   "source": [
    "char_set = ['h', 'i', 'e', 'l', 'o']\n",
    "\n",
    "# hyper parameters\n",
    "input_size = len(char_set)\n",
    "hidden_size = len(char_set)\n",
    "learing_rate = 0.1\n",
    "\n",
    "# data setting\n",
    "x_data = [[0, 1, 0, 2, 3, 3]]\n",
    "x_one_hot = [[[1, 0, 0, 0, 0],\n",
    "             [0, 1, 0, 0, 0],\n",
    "             [1, 0, 0, 0, 0],\n",
    "             [0, 0, 1, 0, 0],\n",
    "             [0, 0, 0, 1, 0],\n",
    "             [0, 0, 0, 1, 0]]]\n",
    "y_data =  [[1, 0, 2, 3, 3, 4]]\n",
    "\n",
    "# transform as torch tensor variable\n",
    "X = torch.FloatTensor(x_one_hot)\n",
    "Y = torch.LongTensor(y_data)"
   ]
  },
  {
   "cell_type": "markdown",
   "id": "bc37f143",
   "metadata": {},
   "source": [
    "### Code run through (charseq)"
   ]
  },
  {
   "cell_type": "code",
   "execution_count": 9,
   "id": "cff11cb4",
   "metadata": {},
   "outputs": [],
   "source": [
    "sample = 'if you want you'\n",
    "# make dictionary\n",
    "char_set = list(set(sample))\n",
    "char_dic = {c:  i for i,c in enumerate(char_set)}\n",
    "\n",
    "# hyper parameters\n",
    "dic_size = len(char_dic)\n",
    "hidden_size = len(char_dic)\n",
    "learning_rate = 0.1\n",
    "\n",
    "# data setting\n",
    "sample_idx = [char_dic[c] for c in sample]\n",
    "x_data = [sample_idx[:-1]]\n",
    "x_one_hot = [np.eye(dic_size)[x] for x in x_data]\n",
    "y_data = [sample_idx[1:]]\n",
    "\n",
    "# transform as torch tensor variable\n",
    "X = torch.FloatTensor(x_one_hot)\n",
    "Y = torch.LongTensor(y_data)"
   ]
  },
  {
   "cell_type": "code",
   "execution_count": 12,
   "id": "4f036530",
   "metadata": {},
   "outputs": [
    {
     "data": {
      "text/plain": [
       "['t', 'a', 'i', ' ', 'f', 'y', 'u', 'w', 'n', 'o']"
      ]
     },
     "execution_count": 12,
     "metadata": {},
     "output_type": "execute_result"
    }
   ],
   "source": [
    "char_set"
   ]
  },
  {
   "cell_type": "markdown",
   "id": "7bc95385",
   "metadata": {},
   "source": [
    "### code run through"
   ]
  },
  {
   "cell_type": "code",
   "execution_count": 15,
   "id": "f1499117",
   "metadata": {},
   "outputs": [
    {
     "name": "stdout",
     "output_type": "stream",
     "text": [
      "0 loss:  2.444728374481201 prediction:  [[2 2 2 2 7 2 4 0 0 0 7 0 2 7]] true Y:  [[4, 3, 5, 9, 6, 3, 7, 1, 8, 0, 3, 5, 9, 6]] prediction str:  iiiiwiftttwtiw\n",
      "1 loss:  2.0261826515197754 prediction:  [[5 2 5 3 5 3 5 4 2 5 3 5 3 5]] true Y:  [[4, 3, 5, 9, 6, 3, 7, 1, 8, 0, 3, 5, 9, 6]] prediction str:  yiy y yfiy y y\n",
      "2 loss:  1.7061254978179932 prediction:  [[5 3 5 3 5 3 7 9 7 5 3 5 3 6]] true Y:  [[4, 3, 5, 9, 6, 3, 7, 1, 8, 0, 3, 5, 9, 6]] prediction str:  y y y wowy y u\n",
      "3 loss:  1.5431398153305054 prediction:  [[5 3 5 9 6 3 7 9 8 5 3 5 9 6]] true Y:  [[4, 3, 5, 9, 6, 3, 7, 1, 8, 0, 3, 5, 9, 6]] prediction str:  y you wony you\n",
      "4 loss:  1.452165961265564 prediction:  [[5 3 5 9 6 3 7 9 8 5 3 6 9 6]] true Y:  [[4, 3, 5, 9, 6, 3, 7, 1, 8, 0, 3, 5, 9, 6]] prediction str:  y you wony uou\n",
      "5 loss:  1.379278540611267 prediction:  [[4 3 5 9 6 3 7 9 8 0 3 6 3 6]] true Y:  [[4, 3, 5, 9, 6, 3, 7, 1, 8, 0, 3, 5, 9, 6]] prediction str:  f you wont u u\n",
      "6 loss:  1.3213716745376587 prediction:  [[4 3 5 3 6 3 6 9 8 0 3 6 3 6]] true Y:  [[4, 3, 5, 9, 6, 3, 7, 1, 8, 0, 3, 5, 9, 6]] prediction str:  f y u uont u u\n",
      "7 loss:  1.2648595571517944 prediction:  [[4 3 5 3 6 3 6 9 8 0 3 6 3 6]] true Y:  [[4, 3, 5, 9, 6, 3, 7, 1, 8, 0, 3, 5, 9, 6]] prediction str:  f y u uont u u\n",
      "8 loss:  1.2156107425689697 prediction:  [[4 3 5 3 6 3 6 9 8 0 3 6 3 6]] true Y:  [[4, 3, 5, 9, 6, 3, 7, 1, 8, 0, 3, 5, 9, 6]] prediction str:  f y u uont u u\n",
      "9 loss:  1.1676931381225586 prediction:  [[4 3 5 3 6 3 6 9 8 0 3 6 3 6]] true Y:  [[4, 3, 5, 9, 6, 3, 7, 1, 8, 0, 3, 5, 9, 6]] prediction str:  f y u uont u u\n",
      "10 loss:  1.1291471719741821 prediction:  [[4 3 5 3 6 3 7 9 8 0 3 6 9 6]] true Y:  [[4, 3, 5, 9, 6, 3, 7, 1, 8, 0, 3, 5, 9, 6]] prediction str:  f y u wont uou\n",
      "11 loss:  1.092816948890686 prediction:  [[4 3 5 9 6 3 7 9 8 0 3 6 9 6]] true Y:  [[4, 3, 5, 9, 6, 3, 7, 1, 8, 0, 3, 5, 9, 6]] prediction str:  f you wont uou\n",
      "12 loss:  1.051931619644165 prediction:  [[4 3 5 9 6 3 7 9 8 0 3 5 9 6]] true Y:  [[4, 3, 5, 9, 6, 3, 7, 1, 8, 0, 3, 5, 9, 6]] prediction str:  f you wont you\n",
      "13 loss:  1.018268346786499 prediction:  [[4 3 5 9 6 3 7 9 8 0 3 5 9 6]] true Y:  [[4, 3, 5, 9, 6, 3, 7, 1, 8, 0, 3, 5, 9, 6]] prediction str:  f you wont you\n",
      "14 loss:  0.9982659220695496 prediction:  [[4 3 5 9 6 3 7 9 8 0 3 5 9 6]] true Y:  [[4, 3, 5, 9, 6, 3, 7, 1, 8, 0, 3, 5, 9, 6]] prediction str:  f you wont you\n",
      "15 loss:  0.9832584261894226 prediction:  [[4 3 5 9 6 3 7 9 8 0 3 5 9 6]] true Y:  [[4, 3, 5, 9, 6, 3, 7, 1, 8, 0, 3, 5, 9, 6]] prediction str:  f you wont you\n",
      "16 loss:  0.9692492485046387 prediction:  [[4 3 5 9 6 3 7 1 8 0 3 5 9 6]] true Y:  [[4, 3, 5, 9, 6, 3, 7, 1, 8, 0, 3, 5, 9, 6]] prediction str:  f you want you\n",
      "17 loss:  0.9607933163642883 prediction:  [[4 3 5 9 6 3 7 1 8 0 3 5 9 6]] true Y:  [[4, 3, 5, 9, 6, 3, 7, 1, 8, 0, 3, 5, 9, 6]] prediction str:  f you want you\n",
      "18 loss:  0.9521297812461853 prediction:  [[4 3 5 9 6 3 7 1 8 0 3 5 9 6]] true Y:  [[4, 3, 5, 9, 6, 3, 7, 1, 8, 0, 3, 5, 9, 6]] prediction str:  f you want you\n",
      "19 loss:  0.941103458404541 prediction:  [[4 3 5 9 6 3 7 1 8 0 3 5 9 6]] true Y:  [[4, 3, 5, 9, 6, 3, 7, 1, 8, 0, 3, 5, 9, 6]] prediction str:  f you want you\n",
      "20 loss:  0.9265909194946289 prediction:  [[4 3 5 9 6 3 7 1 8 0 3 5 9 6]] true Y:  [[4, 3, 5, 9, 6, 3, 7, 1, 8, 0, 3, 5, 9, 6]] prediction str:  f you want you\n",
      "21 loss:  0.9120402336120605 prediction:  [[4 3 5 9 6 3 7 1 8 0 3 5 9 6]] true Y:  [[4, 3, 5, 9, 6, 3, 7, 1, 8, 0, 3, 5, 9, 6]] prediction str:  f you want you\n",
      "22 loss:  0.9003934860229492 prediction:  [[4 3 5 9 6 3 7 1 8 0 3 5 9 6]] true Y:  [[4, 3, 5, 9, 6, 3, 7, 1, 8, 0, 3, 5, 9, 6]] prediction str:  f you want you\n",
      "23 loss:  0.8891859650611877 prediction:  [[4 3 5 9 6 3 7 1 8 0 3 5 9 6]] true Y:  [[4, 3, 5, 9, 6, 3, 7, 1, 8, 0, 3, 5, 9, 6]] prediction str:  f you want you\n",
      "24 loss:  0.8820958733558655 prediction:  [[4 3 5 9 6 3 7 1 8 0 3 5 9 6]] true Y:  [[4, 3, 5, 9, 6, 3, 7, 1, 8, 0, 3, 5, 9, 6]] prediction str:  f you want you\n",
      "25 loss:  0.8738104701042175 prediction:  [[4 3 5 9 6 3 7 1 8 0 3 5 9 6]] true Y:  [[4, 3, 5, 9, 6, 3, 7, 1, 8, 0, 3, 5, 9, 6]] prediction str:  f you want you\n",
      "26 loss:  0.868432879447937 prediction:  [[4 3 5 9 6 3 7 1 8 0 3 5 9 6]] true Y:  [[4, 3, 5, 9, 6, 3, 7, 1, 8, 0, 3, 5, 9, 6]] prediction str:  f you want you\n",
      "27 loss:  0.8638283610343933 prediction:  [[4 3 5 9 6 3 7 1 8 0 3 5 9 6]] true Y:  [[4, 3, 5, 9, 6, 3, 7, 1, 8, 0, 3, 5, 9, 6]] prediction str:  f you want you\n",
      "28 loss:  0.8557798266410828 prediction:  [[4 3 5 9 6 3 7 1 8 0 3 5 9 6]] true Y:  [[4, 3, 5, 9, 6, 3, 7, 1, 8, 0, 3, 5, 9, 6]] prediction str:  f you want you\n",
      "29 loss:  0.8521787524223328 prediction:  [[4 3 5 9 6 3 7 1 8 0 3 5 9 6]] true Y:  [[4, 3, 5, 9, 6, 3, 7, 1, 8, 0, 3, 5, 9, 6]] prediction str:  f you want you\n",
      "30 loss:  0.8483969569206238 prediction:  [[4 3 5 9 6 3 7 1 8 0 3 5 9 6]] true Y:  [[4, 3, 5, 9, 6, 3, 7, 1, 8, 0, 3, 5, 9, 6]] prediction str:  f you want you\n",
      "31 loss:  0.8438592553138733 prediction:  [[4 3 5 9 6 3 7 1 8 0 3 5 9 6]] true Y:  [[4, 3, 5, 9, 6, 3, 7, 1, 8, 0, 3, 5, 9, 6]] prediction str:  f you want you\n",
      "32 loss:  0.8406810164451599 prediction:  [[4 3 5 9 6 3 7 1 8 0 3 5 9 6]] true Y:  [[4, 3, 5, 9, 6, 3, 7, 1, 8, 0, 3, 5, 9, 6]] prediction str:  f you want you\n",
      "33 loss:  0.8385348916053772 prediction:  [[4 3 5 9 6 3 7 1 8 0 3 5 9 6]] true Y:  [[4, 3, 5, 9, 6, 3, 7, 1, 8, 0, 3, 5, 9, 6]] prediction str:  f you want you\n",
      "34 loss:  0.8366292715072632 prediction:  [[4 3 5 9 6 3 7 1 8 0 3 5 9 6]] true Y:  [[4, 3, 5, 9, 6, 3, 7, 1, 8, 0, 3, 5, 9, 6]] prediction str:  f you want you\n",
      "35 loss:  0.8349051475524902 prediction:  [[4 3 5 9 6 3 7 1 8 0 3 5 9 6]] true Y:  [[4, 3, 5, 9, 6, 3, 7, 1, 8, 0, 3, 5, 9, 6]] prediction str:  f you want you\n",
      "36 loss:  0.8334826827049255 prediction:  [[4 3 5 9 6 3 7 1 8 0 3 5 9 6]] true Y:  [[4, 3, 5, 9, 6, 3, 7, 1, 8, 0, 3, 5, 9, 6]] prediction str:  f you want you\n",
      "37 loss:  0.8321643471717834 prediction:  [[4 3 5 9 6 3 7 1 8 0 3 5 9 6]] true Y:  [[4, 3, 5, 9, 6, 3, 7, 1, 8, 0, 3, 5, 9, 6]] prediction str:  f you want you\n",
      "38 loss:  0.8306459188461304 prediction:  [[4 3 5 9 6 3 7 1 8 0 3 5 9 6]] true Y:  [[4, 3, 5, 9, 6, 3, 7, 1, 8, 0, 3, 5, 9, 6]] prediction str:  f you want you\n",
      "39 loss:  0.8289219737052917 prediction:  [[4 3 5 9 6 3 7 1 8 0 3 5 9 6]] true Y:  [[4, 3, 5, 9, 6, 3, 7, 1, 8, 0, 3, 5, 9, 6]] prediction str:  f you want you\n",
      "40 loss:  0.8271503448486328 prediction:  [[4 3 5 9 6 3 7 1 8 0 3 5 9 6]] true Y:  [[4, 3, 5, 9, 6, 3, 7, 1, 8, 0, 3, 5, 9, 6]] prediction str:  f you want you\n",
      "41 loss:  0.8255680799484253 prediction:  [[4 3 5 9 6 3 7 1 8 0 3 5 9 6]] true Y:  [[4, 3, 5, 9, 6, 3, 7, 1, 8, 0, 3, 5, 9, 6]] prediction str:  f you want you\n",
      "42 loss:  0.8243695497512817 prediction:  [[4 3 5 9 6 3 7 1 8 0 3 5 9 6]] true Y:  [[4, 3, 5, 9, 6, 3, 7, 1, 8, 0, 3, 5, 9, 6]] prediction str:  f you want you\n",
      "43 loss:  0.8234769701957703 prediction:  [[4 3 5 9 6 3 7 1 8 0 3 5 9 6]] true Y:  [[4, 3, 5, 9, 6, 3, 7, 1, 8, 0, 3, 5, 9, 6]] prediction str:  f you want you\n",
      "44 loss:  0.8227218389511108 prediction:  [[4 3 5 9 6 3 7 1 8 0 3 5 9 6]] true Y:  [[4, 3, 5, 9, 6, 3, 7, 1, 8, 0, 3, 5, 9, 6]] prediction str:  f you want you\n",
      "45 loss:  0.8220358490943909 prediction:  [[4 3 5 9 6 3 7 1 8 0 3 5 9 6]] true Y:  [[4, 3, 5, 9, 6, 3, 7, 1, 8, 0, 3, 5, 9, 6]] prediction str:  f you want you\n",
      "46 loss:  0.8213567137718201 prediction:  [[4 3 5 9 6 3 7 1 8 0 3 5 9 6]] true Y:  [[4, 3, 5, 9, 6, 3, 7, 1, 8, 0, 3, 5, 9, 6]] prediction str:  f you want you\n",
      "47 loss:  0.8206928968429565 prediction:  [[4 3 5 9 6 3 7 1 8 0 3 5 9 6]] true Y:  [[4, 3, 5, 9, 6, 3, 7, 1, 8, 0, 3, 5, 9, 6]] prediction str:  f you want you\n",
      "48 loss:  0.8201097846031189 prediction:  [[4 3 5 9 6 3 7 1 8 0 3 5 9 6]] true Y:  [[4, 3, 5, 9, 6, 3, 7, 1, 8, 0, 3, 5, 9, 6]] prediction str:  f you want you\n",
      "49 loss:  0.8195982575416565 prediction:  [[4 3 5 9 6 3 7 1 8 0 3 5 9 6]] true Y:  [[4, 3, 5, 9, 6, 3, 7, 1, 8, 0, 3, 5, 9, 6]] prediction str:  f you want you\n",
      "50 loss:  0.8190909028053284 prediction:  [[4 3 5 9 6 3 7 1 8 0 3 5 9 6]] true Y:  [[4, 3, 5, 9, 6, 3, 7, 1, 8, 0, 3, 5, 9, 6]] prediction str:  f you want you\n",
      "51 loss:  0.8186070322990417 prediction:  [[4 3 5 9 6 3 7 1 8 0 3 5 9 6]] true Y:  [[4, 3, 5, 9, 6, 3, 7, 1, 8, 0, 3, 5, 9, 6]] prediction str:  f you want you\n",
      "52 loss:  0.8181699514389038 prediction:  [[4 3 5 9 6 3 7 1 8 0 3 5 9 6]] true Y:  [[4, 3, 5, 9, 6, 3, 7, 1, 8, 0, 3, 5, 9, 6]] prediction str:  f you want you\n",
      "53 loss:  0.8177441954612732 prediction:  [[4 3 5 9 6 3 7 1 8 0 3 5 9 6]] true Y:  [[4, 3, 5, 9, 6, 3, 7, 1, 8, 0, 3, 5, 9, 6]] prediction str:  f you want you\n",
      "54 loss:  0.8173388242721558 prediction:  [[4 3 5 9 6 3 7 1 8 0 3 5 9 6]] true Y:  [[4, 3, 5, 9, 6, 3, 7, 1, 8, 0, 3, 5, 9, 6]] prediction str:  f you want you\n",
      "55 loss:  0.8169890642166138 prediction:  [[4 3 5 9 6 3 7 1 8 0 3 5 9 6]] true Y:  [[4, 3, 5, 9, 6, 3, 7, 1, 8, 0, 3, 5, 9, 6]] prediction str:  f you want you\n",
      "56 loss:  0.8166561722755432 prediction:  [[4 3 5 9 6 3 7 1 8 0 3 5 9 6]] true Y:  [[4, 3, 5, 9, 6, 3, 7, 1, 8, 0, 3, 5, 9, 6]] prediction str:  f you want you\n",
      "57 loss:  0.8163236379623413 prediction:  [[4 3 5 9 6 3 7 1 8 0 3 5 9 6]] true Y:  [[4, 3, 5, 9, 6, 3, 7, 1, 8, 0, 3, 5, 9, 6]] prediction str:  f you want you\n",
      "58 loss:  0.8160205483436584 prediction:  [[4 3 5 9 6 3 7 1 8 0 3 5 9 6]] true Y:  [[4, 3, 5, 9, 6, 3, 7, 1, 8, 0, 3, 5, 9, 6]] prediction str:  f you want you\n",
      "59 loss:  0.8157293200492859 prediction:  [[4 3 5 9 6 3 7 1 8 0 3 5 9 6]] true Y:  [[4, 3, 5, 9, 6, 3, 7, 1, 8, 0, 3, 5, 9, 6]] prediction str:  f you want you\n",
      "60 loss:  0.8154547810554504 prediction:  [[4 3 5 9 6 3 7 1 8 0 3 5 9 6]] true Y:  [[4, 3, 5, 9, 6, 3, 7, 1, 8, 0, 3, 5, 9, 6]] prediction str:  f you want you\n",
      "61 loss:  0.81521075963974 prediction:  [[4 3 5 9 6 3 7 1 8 0 3 5 9 6]] true Y:  [[4, 3, 5, 9, 6, 3, 7, 1, 8, 0, 3, 5, 9, 6]] prediction str:  f you want you\n",
      "62 loss:  0.8149724006652832 prediction:  [[4 3 5 9 6 3 7 1 8 0 3 5 9 6]] true Y:  [[4, 3, 5, 9, 6, 3, 7, 1, 8, 0, 3, 5, 9, 6]] prediction str:  f you want you\n",
      "63 loss:  0.8147439360618591 prediction:  [[4 3 5 9 6 3 7 1 8 0 3 5 9 6]] true Y:  [[4, 3, 5, 9, 6, 3, 7, 1, 8, 0, 3, 5, 9, 6]] prediction str:  f you want you\n",
      "64 loss:  0.8145265579223633 prediction:  [[4 3 5 9 6 3 7 1 8 0 3 5 9 6]] true Y:  [[4, 3, 5, 9, 6, 3, 7, 1, 8, 0, 3, 5, 9, 6]] prediction str:  f you want you\n",
      "65 loss:  0.8143072724342346 prediction:  [[4 3 5 9 6 3 7 1 8 0 3 5 9 6]] true Y:  [[4, 3, 5, 9, 6, 3, 7, 1, 8, 0, 3, 5, 9, 6]] prediction str:  f you want you\n",
      "66 loss:  0.8141027092933655 prediction:  [[4 3 5 9 6 3 7 1 8 0 3 5 9 6]] true Y:  [[4, 3, 5, 9, 6, 3, 7, 1, 8, 0, 3, 5, 9, 6]] prediction str:  f you want you\n",
      "67 loss:  0.8139147162437439 prediction:  [[4 3 5 9 6 3 7 1 8 0 3 5 9 6]] true Y:  [[4, 3, 5, 9, 6, 3, 7, 1, 8, 0, 3, 5, 9, 6]] prediction str:  f you want you\n",
      "68 loss:  0.8137369751930237 prediction:  [[4 3 5 9 6 3 7 1 8 0 3 5 9 6]] true Y:  [[4, 3, 5, 9, 6, 3, 7, 1, 8, 0, 3, 5, 9, 6]] prediction str:  f you want you\n",
      "69 loss:  0.813581645488739 prediction:  [[4 3 5 9 6 3 7 1 8 0 3 5 9 6]] true Y:  [[4, 3, 5, 9, 6, 3, 7, 1, 8, 0, 3, 5, 9, 6]] prediction str:  f you want you\n",
      "70 loss:  0.8134366273880005 prediction:  [[4 3 5 9 6 3 7 1 8 0 3 5 9 6]] true Y:  [[4, 3, 5, 9, 6, 3, 7, 1, 8, 0, 3, 5, 9, 6]] prediction str:  f you want you\n",
      "71 loss:  0.8132959604263306 prediction:  [[4 3 5 9 6 3 7 1 8 0 3 5 9 6]] true Y:  [[4, 3, 5, 9, 6, 3, 7, 1, 8, 0, 3, 5, 9, 6]] prediction str:  f you want you\n",
      "72 loss:  0.8131600022315979 prediction:  [[4 3 5 9 6 3 7 1 8 0 3 5 9 6]] true Y:  [[4, 3, 5, 9, 6, 3, 7, 1, 8, 0, 3, 5, 9, 6]] prediction str:  f you want you\n",
      "73 loss:  0.813016951084137 prediction:  [[4 3 5 9 6 3 7 1 8 0 3 5 9 6]] true Y:  [[4, 3, 5, 9, 6, 3, 7, 1, 8, 0, 3, 5, 9, 6]] prediction str:  f you want you\n",
      "74 loss:  0.8128737211227417 prediction:  [[4 3 5 9 6 3 7 1 8 0 3 5 9 6]] true Y:  [[4, 3, 5, 9, 6, 3, 7, 1, 8, 0, 3, 5, 9, 6]] prediction str:  f you want you\n",
      "75 loss:  0.8127312064170837 prediction:  [[4 3 5 9 6 3 7 1 8 0 3 5 9 6]] true Y:  [[4, 3, 5, 9, 6, 3, 7, 1, 8, 0, 3, 5, 9, 6]] prediction str:  f you want you\n",
      "76 loss:  0.8125914335250854 prediction:  [[4 3 5 9 6 3 7 1 8 0 3 5 9 6]] true Y:  [[4, 3, 5, 9, 6, 3, 7, 1, 8, 0, 3, 5, 9, 6]] prediction str:  f you want you\n",
      "77 loss:  0.8124626874923706 prediction:  [[4 3 5 9 6 3 7 1 8 0 3 5 9 6]] true Y:  [[4, 3, 5, 9, 6, 3, 7, 1, 8, 0, 3, 5, 9, 6]] prediction str:  f you want you\n",
      "78 loss:  0.8123403191566467 prediction:  [[4 3 5 9 6 3 7 1 8 0 3 5 9 6]] true Y:  [[4, 3, 5, 9, 6, 3, 7, 1, 8, 0, 3, 5, 9, 6]] prediction str:  f you want you\n",
      "79 loss:  0.8122263550758362 prediction:  [[4 3 5 9 6 3 7 1 8 0 3 5 9 6]] true Y:  [[4, 3, 5, 9, 6, 3, 7, 1, 8, 0, 3, 5, 9, 6]] prediction str:  f you want you\n",
      "80 loss:  0.8121176958084106 prediction:  [[4 3 5 9 6 3 7 1 8 0 3 5 9 6]] true Y:  [[4, 3, 5, 9, 6, 3, 7, 1, 8, 0, 3, 5, 9, 6]] prediction str:  f you want you\n",
      "81 loss:  0.8120096921920776 prediction:  [[4 3 5 9 6 3 7 1 8 0 3 5 9 6]] true Y:  [[4, 3, 5, 9, 6, 3, 7, 1, 8, 0, 3, 5, 9, 6]] prediction str:  f you want you\n",
      "82 loss:  0.8119038939476013 prediction:  [[4 3 5 9 6 3 7 1 8 0 3 5 9 6]] true Y:  [[4, 3, 5, 9, 6, 3, 7, 1, 8, 0, 3, 5, 9, 6]] prediction str:  f you want you\n",
      "83 loss:  0.8117969632148743 prediction:  [[4 3 5 9 6 3 7 1 8 0 3 5 9 6]] true Y:  [[4, 3, 5, 9, 6, 3, 7, 1, 8, 0, 3, 5, 9, 6]] prediction str:  f you want you\n",
      "84 loss:  0.8116917610168457 prediction:  [[4 3 5 9 6 3 7 1 8 0 3 5 9 6]] true Y:  [[4, 3, 5, 9, 6, 3, 7, 1, 8, 0, 3, 5, 9, 6]] prediction str:  f you want you\n",
      "85 loss:  0.8115888237953186 prediction:  [[4 3 5 9 6 3 7 1 8 0 3 5 9 6]] true Y:  [[4, 3, 5, 9, 6, 3, 7, 1, 8, 0, 3, 5, 9, 6]] prediction str:  f you want you\n",
      "86 loss:  0.8114880919456482 prediction:  [[4 3 5 9 6 3 7 1 8 0 3 5 9 6]] true Y:  [[4, 3, 5, 9, 6, 3, 7, 1, 8, 0, 3, 5, 9, 6]] prediction str:  f you want you\n",
      "87 loss:  0.8113915324211121 prediction:  [[4 3 5 9 6 3 7 1 8 0 3 5 9 6]] true Y:  [[4, 3, 5, 9, 6, 3, 7, 1, 8, 0, 3, 5, 9, 6]] prediction str:  f you want you\n",
      "88 loss:  0.8112965226173401 prediction:  [[4 3 5 9 6 3 7 1 8 0 3 5 9 6]] true Y:  [[4, 3, 5, 9, 6, 3, 7, 1, 8, 0, 3, 5, 9, 6]] prediction str:  f you want you\n",
      "89 loss:  0.8112042546272278 prediction:  [[4 3 5 9 6 3 7 1 8 0 3 5 9 6]] true Y:  [[4, 3, 5, 9, 6, 3, 7, 1, 8, 0, 3, 5, 9, 6]] prediction str:  f you want you\n",
      "90 loss:  0.8111136555671692 prediction:  [[4 3 5 9 6 3 7 1 8 0 3 5 9 6]] true Y:  [[4, 3, 5, 9, 6, 3, 7, 1, 8, 0, 3, 5, 9, 6]] prediction str:  f you want you\n",
      "91 loss:  0.81102454662323 prediction:  [[4 3 5 9 6 3 7 1 8 0 3 5 9 6]] true Y:  [[4, 3, 5, 9, 6, 3, 7, 1, 8, 0, 3, 5, 9, 6]] prediction str:  f you want you\n",
      "92 loss:  0.8109380006790161 prediction:  [[4 3 5 9 6 3 7 1 8 0 3 5 9 6]] true Y:  [[4, 3, 5, 9, 6, 3, 7, 1, 8, 0, 3, 5, 9, 6]] prediction str:  f you want you\n",
      "93 loss:  0.8108528256416321 prediction:  [[4 3 5 9 6 3 7 1 8 0 3 5 9 6]] true Y:  [[4, 3, 5, 9, 6, 3, 7, 1, 8, 0, 3, 5, 9, 6]] prediction str:  f you want you\n",
      "94 loss:  0.8107702136039734 prediction:  [[4 3 5 9 6 3 7 1 8 0 3 5 9 6]] true Y:  [[4, 3, 5, 9, 6, 3, 7, 1, 8, 0, 3, 5, 9, 6]] prediction str:  f you want you\n",
      "95 loss:  0.8106890916824341 prediction:  [[4 3 5 9 6 3 7 1 8 0 3 5 9 6]] true Y:  [[4, 3, 5, 9, 6, 3, 7, 1, 8, 0, 3, 5, 9, 6]] prediction str:  f you want you\n",
      "96 loss:  0.8106095194816589 prediction:  [[4 3 5 9 6 3 7 1 8 0 3 5 9 6]] true Y:  [[4, 3, 5, 9, 6, 3, 7, 1, 8, 0, 3, 5, 9, 6]] prediction str:  f you want you\n",
      "97 loss:  0.8105311989784241 prediction:  [[4 3 5 9 6 3 7 1 8 0 3 5 9 6]] true Y:  [[4, 3, 5, 9, 6, 3, 7, 1, 8, 0, 3, 5, 9, 6]] prediction str:  f you want you\n",
      "98 loss:  0.8104538321495056 prediction:  [[4 3 5 9 6 3 7 1 8 0 3 5 9 6]] true Y:  [[4, 3, 5, 9, 6, 3, 7, 1, 8, 0, 3, 5, 9, 6]] prediction str:  f you want you\n",
      "99 loss:  0.8103780746459961 prediction:  [[4 3 5 9 6 3 7 1 8 0 3 5 9 6]] true Y:  [[4, 3, 5, 9, 6, 3, 7, 1, 8, 0, 3, 5, 9, 6]] prediction str:  f you want you\n"
     ]
    }
   ],
   "source": [
    "# declare RNN\n",
    "rnn = torch.nn.RNN(dic_size, hidden_size, batch_first = True) # batch_first gurantees the order of output = (B, S, F)\n",
    "\n",
    "# loss & optimizer setting\n",
    "criterion = torch.nn.CrossEntropyLoss()\n",
    "optimizer = optim.Adam(rnn.parameters(), learning_rate)\n",
    "\n",
    "#start training\n",
    "for i in range(100):\n",
    "    optimizer.zero_grad() # RNN에서는 처음에 그레디언트 벡터 초기화 필수\n",
    "    outputs, _status = rnn(X)\n",
    "    loss = criterion(outputs.view(-1, dic_size), Y.view(-1))\n",
    "    loss.backward()\n",
    "    optimizer.step()\n",
    "    result = outputs.data.numpy().argmax(axis = 2)\n",
    "    result_str = ''.join([char_set[c] for c in np.squeeze(result)])\n",
    "    print(i, 'loss: ', loss.item(), 'prediction: ', result, 'true Y: ', y_data, \"prediction str: \", result_str)"
   ]
  },
  {
   "cell_type": "code",
   "execution_count": 16,
   "id": "068d2ccd",
   "metadata": {},
   "outputs": [
    {
     "data": {
      "text/plain": [
       "array([[[-0.99496174, -0.989334  , -0.99630564, -0.980675  ,\n",
       "          0.9988039 , -0.9963068 , -0.9929592 , -0.99827224,\n",
       "         -0.99652845, -0.9971067 ],\n",
       "        [-0.9998039 , -0.96539265, -0.9999935 ,  0.99915266,\n",
       "         -0.9998175 , -0.9998145 , -0.99988073, -0.9998098 ,\n",
       "         -0.9963792 , -0.99929017],\n",
       "        [-0.9996685 , -0.99972445, -0.99999994, -0.99958676,\n",
       "         -0.9999952 ,  0.9903841 , -0.9991908 , -0.925429  ,\n",
       "         -0.9999996 , -0.999994  ],\n",
       "        [-0.9999804 , -0.9996409 , -0.9999983 , -0.99652386,\n",
       "         -0.99999803, -0.9997043 , -0.99801666, -0.9999978 ,\n",
       "         -0.9999955 ,  0.9993632 ],\n",
       "        [-0.9998848 , -0.999968  , -0.9999999 , -0.9985639 ,\n",
       "         -0.9999888 , -0.99999994,  0.999241  , -0.9995045 ,\n",
       "         -0.9969242 , -0.9992147 ],\n",
       "        [-0.9977456 , -0.9991373 , -0.9999999 ,  0.999228  ,\n",
       "         -0.9961742 , -1.        , -0.10205668, -0.98498034,\n",
       "         -0.99999183, -0.40980852],\n",
       "        [-0.99935615, -0.99925464, -0.9999999 , -0.99817383,\n",
       "         -0.9998258 , -0.83885646, -0.99396014,  0.9788248 ,\n",
       "         -0.99999976, -0.9999787 ],\n",
       "        [-0.99667394,  0.99687237, -0.99999493, -0.9999993 ,\n",
       "         -0.99797773, -0.9953603 , -0.99854887, -1.        ,\n",
       "         -0.99999195, -0.9937548 ],\n",
       "        [-0.9999971 , -0.99963826, -0.9999934 , -0.99929714,\n",
       "         -0.9999998 , -0.98300415, -0.9984721 , -1.        ,\n",
       "          0.9988103 , -0.9991387 ],\n",
       "        [ 0.99924946, -0.9999819 , -0.99999785, -0.99736804,\n",
       "         -0.9999379 , -0.9905917 , -0.99875224, -0.99999994,\n",
       "         -0.9983284 , -0.9998497 ],\n",
       "        [-0.99947584, -0.9754045 , -0.99996674,  0.99964523,\n",
       "         -0.999998  , -0.99822253, -0.99964595, -0.99981093,\n",
       "         -0.9964868 , -0.99930894],\n",
       "        [-0.9996596 , -0.9997235 , -0.99999994, -0.9995791 ,\n",
       "         -0.9999952 ,  0.99013853, -0.9991988 , -0.92206514,\n",
       "         -0.9999996 , -0.9999939 ],\n",
       "        [-0.99998033, -0.99963534, -0.9999983 , -0.9965758 ,\n",
       "         -0.99999803, -0.999702  , -0.99802166, -0.9999978 ,\n",
       "         -0.9999956 ,  0.99936604],\n",
       "        [-0.9998848 , -0.999968  , -0.9999999 , -0.99856377,\n",
       "         -0.9999888 , -0.99999994,  0.99924105, -0.9995046 ,\n",
       "         -0.99692357, -0.9992146 ]]], dtype=float32)"
      ]
     },
     "execution_count": 16,
     "metadata": {},
     "output_type": "execute_result"
    }
   ],
   "source": [
    "outputs.data.numpy()"
   ]
  },
  {
   "cell_type": "code",
   "execution_count": 22,
   "id": "c0cd7b1c",
   "metadata": {},
   "outputs": [
    {
     "data": {
      "text/plain": [
       "array([4, 3, 5, 9, 6, 3, 7, 1, 8, 0, 3, 5, 9, 6], dtype=int64)"
      ]
     },
     "execution_count": 22,
     "metadata": {},
     "output_type": "execute_result"
    }
   ],
   "source": [
    "result = outputs.data.numpy().argmax(axis = 2)\n",
    "result\n",
    "np.squeeze(result)"
   ]
  }
 ],
 "metadata": {
  "kernelspec": {
   "display_name": "pytorch",
   "language": "python",
   "name": "pt1.1"
  },
  "language_info": {
   "codemirror_mode": {
    "name": "ipython",
    "version": 3
   },
   "file_extension": ".py",
   "mimetype": "text/x-python",
   "name": "python",
   "nbconvert_exporter": "python",
   "pygments_lexer": "ipython3",
   "version": "3.9.7"
  }
 },
 "nbformat": 4,
 "nbformat_minor": 5
}
