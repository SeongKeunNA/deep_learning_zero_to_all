{
 "cells": [
  {
   "cell_type": "markdown",
   "id": "ab71e6d6",
   "metadata": {},
   "source": [
    "# Lab-04-2 Loading Data"
   ]
  },
  {
   "cell_type": "markdown",
   "id": "75106bc8",
   "metadata": {},
   "source": [
    "### Pytorch Dataset"
   ]
  },
  {
   "cell_type": "code",
   "execution_count": 1,
   "id": "2edd97a1",
   "metadata": {},
   "outputs": [],
   "source": [
    "# torch.utils.data.Dataset 상속\n",
    "from torch.utils.data import Dataset\n",
    "\n",
    "class CustomDataset(Dataset):\n",
    "    def __init__(self):\n",
    "        self.x_data = [[73, 80, 75],\n",
    "                       [93, 88, 93],\n",
    "                       [89, 91, 90],\n",
    "                       [96, 98, 100],\n",
    "                       [73, 66, 70]]\n",
    "        self.y_data = [[152], [185], [180], [196], [142]]\n",
    "    \n",
    "    def __len__(self):\n",
    "        return len(self.x_data)\n",
    "    \n",
    "    def __getitem__(self, idx):\n",
    "        x = torch.FloatTensor(self.x_data[idx])\n",
    "        y = torch.FloatTensor(self.y_data[idx])\n",
    "        \n",
    "        return x, y\n",
    "    \n",
    "dataset = CustomDataset()"
   ]
  },
  {
   "cell_type": "markdown",
   "id": "cb1835d5",
   "metadata": {},
   "source": [
    "### PyTorch DataLoader"
   ]
  },
  {
   "cell_type": "code",
   "execution_count": 4,
   "id": "7441b328",
   "metadata": {},
   "outputs": [],
   "source": [
    "from torch.utils.data import DataLoader\n",
    "\n",
    "dataloader = DataLoader(\n",
    "    dataset,\n",
    "    batch_size=2,\n",
    "    shuffle=True,\n",
    ")"
   ]
  },
  {
   "cell_type": "markdown",
   "id": "38662315",
   "metadata": {},
   "source": [
    "### Full Code with Dataset and DataLoadear"
   ]
  },
  {
   "cell_type": "code",
   "execution_count": 13,
   "id": "f277c50c",
   "metadata": {},
   "outputs": [
    {
     "name": "stdout",
     "output_type": "stream",
     "text": [
      "Epoch    0/20 Batch 1/3 Cost: 35955.101562\n",
      "Epoch    0/20 Batch 2/3 Cost: 6209.319336\n",
      "Epoch    0/20 Batch 3/3 Cost: 1493.124390\n",
      "Epoch    1/20 Batch 1/3 Cost: 960.469727\n",
      "Epoch    1/20 Batch 2/3 Cost: 404.830444\n",
      "Epoch    1/20 Batch 3/3 Cost: 121.939743\n",
      "Epoch    2/20 Batch 1/3 Cost: 40.063629\n",
      "Epoch    2/20 Batch 2/3 Cost: 6.243307\n",
      "Epoch    2/20 Batch 3/3 Cost: 2.721674\n",
      "Epoch    3/20 Batch 1/3 Cost: 0.457124\n",
      "Epoch    3/20 Batch 2/3 Cost: 2.170396\n",
      "Epoch    3/20 Batch 3/3 Cost: 5.365526\n",
      "Epoch    4/20 Batch 1/3 Cost: 0.432428\n",
      "Epoch    4/20 Batch 2/3 Cost: 2.161119\n",
      "Epoch    4/20 Batch 3/3 Cost: 4.317652\n",
      "Epoch    5/20 Batch 1/3 Cost: 1.001282\n",
      "Epoch    5/20 Batch 2/3 Cost: 4.993515\n",
      "Epoch    5/20 Batch 3/3 Cost: 0.018104\n",
      "Epoch    6/20 Batch 1/3 Cost: 0.481510\n",
      "Epoch    6/20 Batch 2/3 Cost: 3.375269\n",
      "Epoch    6/20 Batch 3/3 Cost: 0.006724\n",
      "Epoch    7/20 Batch 1/3 Cost: 1.871530\n",
      "Epoch    7/20 Batch 2/3 Cost: 2.398715\n",
      "Epoch    7/20 Batch 3/3 Cost: 0.027683\n",
      "Epoch    8/20 Batch 1/3 Cost: 0.053255\n",
      "Epoch    8/20 Batch 2/3 Cost: 2.451649\n",
      "Epoch    8/20 Batch 3/3 Cost: 5.253858\n",
      "Epoch    9/20 Batch 1/3 Cost: 0.361246\n",
      "Epoch    9/20 Batch 2/3 Cost: 1.587533\n",
      "Epoch    9/20 Batch 3/3 Cost: 5.579979\n",
      "Epoch   10/20 Batch 1/3 Cost: 2.531121\n",
      "Epoch   10/20 Batch 2/3 Cost: 2.846121\n",
      "Epoch   10/20 Batch 3/3 Cost: 0.560876\n",
      "Epoch   11/20 Batch 1/3 Cost: 0.467520\n",
      "Epoch   11/20 Batch 2/3 Cost: 1.661200\n",
      "Epoch   11/20 Batch 3/3 Cost: 5.062706\n",
      "Epoch   12/20 Batch 1/3 Cost: 0.380035\n",
      "Epoch   12/20 Batch 2/3 Cost: 3.399496\n",
      "Epoch   12/20 Batch 3/3 Cost: 1.324733\n",
      "Epoch   13/20 Batch 1/3 Cost: 1.626572\n",
      "Epoch   13/20 Batch 2/3 Cost: 2.711185\n",
      "Epoch   13/20 Batch 3/3 Cost: 0.106627\n",
      "Epoch   14/20 Batch 1/3 Cost: 1.210828\n",
      "Epoch   14/20 Batch 2/3 Cost: 1.213562\n",
      "Epoch   14/20 Batch 3/3 Cost: 4.317018\n",
      "Epoch   15/20 Batch 1/3 Cost: 1.427176\n",
      "Epoch   15/20 Batch 2/3 Cost: 3.290076\n",
      "Epoch   15/20 Batch 3/3 Cost: 1.027438\n",
      "Epoch   16/20 Batch 1/3 Cost: 2.294755\n",
      "Epoch   16/20 Batch 2/3 Cost: 0.039169\n",
      "Epoch   16/20 Batch 3/3 Cost: 4.126534\n",
      "Epoch   17/20 Batch 1/3 Cost: 3.177231\n",
      "Epoch   17/20 Batch 2/3 Cost: 1.661888\n",
      "Epoch   17/20 Batch 3/3 Cost: 0.661297\n",
      "Epoch   18/20 Batch 1/3 Cost: 0.458529\n",
      "Epoch   18/20 Batch 2/3 Cost: 1.624732\n",
      "Epoch   18/20 Batch 3/3 Cost: 5.116614\n",
      "Epoch   19/20 Batch 1/3 Cost: 0.757791\n",
      "Epoch   19/20 Batch 2/3 Cost: 4.462570\n",
      "Epoch   19/20 Batch 3/3 Cost: 0.137824\n",
      "Epoch   20/20 Batch 1/3 Cost: 0.553338\n",
      "Epoch   20/20 Batch 2/3 Cost: 3.332503\n",
      "Epoch   20/20 Batch 3/3 Cost: 0.015816\n"
     ]
    }
   ],
   "source": [
    "import torch.nn as nn\n",
    "\n",
    "class MultivariateLinearRegressionModel(nn.Module):\n",
    "    def __init__(self):\n",
    "        super().__init__()\n",
    "        self.linear = nn.Linear(3, 1)\n",
    "        \n",
    "    def forward(self, x):\n",
    "        return self.linear(x)  \n",
    "    \n",
    "import torch.nn.functional as F\n",
    "\n",
    "#모델 초기화\n",
    "model = MultivariateLinearRegressionModel()\n",
    "                           \n",
    "#optimizer 설정\n",
    "optimizer = optim.SGD(model.parameters(), lr=1e-5)\n",
    "\n",
    "nb_epochs = 20\n",
    "for epoch in range(nb_epochs + 1):\n",
    "    for batch_idx, samples in enumerate(dataloader):\n",
    "        x_train, y_train = samples\n",
    "    \n",
    "        # H(x) 계산\n",
    "        prediction = model(x_train)\n",
    "\n",
    "        # cost 계산\n",
    "        cost = F.mse_loss(prediction, y_train)\n",
    "\n",
    "        # cost로 H(x) 개선\n",
    "        optimizer.zero_grad()\n",
    "        cost.backward()\n",
    "        optimizer.step()\n",
    "\n",
    "        print('Epoch {:4d}/{} Batch {}/{} Cost: {:.6f}'.format(\n",
    "        epoch, nb_epochs, batch_idx+1, len(dataloader), cost.item()\n",
    "        ))"
   ]
  },
  {
   "cell_type": "code",
   "execution_count": null,
   "id": "39d3c2a2",
   "metadata": {},
   "outputs": [],
   "source": []
  }
 ],
 "metadata": {
  "kernelspec": {
   "display_name": "Python 3",
   "language": "python",
   "name": "python3"
  },
  "language_info": {
   "codemirror_mode": {
    "name": "ipython",
    "version": 3
   },
   "file_extension": ".py",
   "mimetype": "text/x-python",
   "name": "python",
   "nbconvert_exporter": "python",
   "pygments_lexer": "ipython3",
   "version": "3.8.8"
  }
 },
 "nbformat": 4,
 "nbformat_minor": 5
}
