{
 "cells": [
  {
   "cell_type": "markdown",
   "id": "ac82d1c6",
   "metadata": {},
   "source": [
    "# [PyTorch] Lab-02 Linear regression"
   ]
  },
  {
   "cell_type": "markdown",
   "id": "20bd9a19",
   "metadata": {},
   "source": [
    "### 데이터 정의"
   ]
  },
  {
   "cell_type": "code",
   "execution_count": 1,
   "id": "4ebbc984",
   "metadata": {},
   "outputs": [],
   "source": [
    "x_train = torch.FloatTensor([[1], [2], [3]])\n",
    "y_train = torch.FloatTensor([[2], [4], [6]])"
   ]
  },
  {
   "cell_type": "markdown",
   "id": "68a2de16",
   "metadata": {},
   "source": [
    "### Hypothesis 초기화"
   ]
  },
  {
   "cell_type": "code",
   "execution_count": 3,
   "id": "7ce1d56f",
   "metadata": {},
   "outputs": [],
   "source": [
    "W=torch.zeros(1, requires_grad=True)\n",
    "b=torch.zeros(1, requires_grad=True)"
   ]
  },
  {
   "cell_type": "markdown",
   "id": "5bd1a20c",
   "metadata": {},
   "source": [
    "### Optimizer 정의"
   ]
  },
  {
   "cell_type": "code",
   "execution_count": 7,
   "id": "9baa5ff7",
   "metadata": {},
   "outputs": [],
   "source": [
    "from torch import optim\n",
    "optimizer = optim.SGD([W, b], lr=0.01)"
   ]
  },
  {
   "cell_type": "markdown",
   "id": "e5795c26",
   "metadata": {},
   "source": [
    "### Hypothesis 예측, Cost 계산, Optimizer로 학습"
   ]
  },
  {
   "cell_type": "code",
   "execution_count": 9,
   "id": "921667b5",
   "metadata": {},
   "outputs": [],
   "source": [
    "nb_epochs = 1000\n",
    "for epoch in range(1, nb_epochs + 1):\n",
    "    hypothesis = x_train * W + b\n",
    "    cost = torch. mean((hypothesis - y_train) ** 2)\n",
    "    \n",
    "    optimizer.zero_grad()\n",
    "    cost.backward()\n",
    "    optimizer.step()"
   ]
  }
 ],
 "metadata": {
  "kernelspec": {
   "display_name": "Python 3",
   "language": "python",
   "name": "python3"
  },
  "language_info": {
   "codemirror_mode": {
    "name": "ipython",
    "version": 3
   },
   "file_extension": ".py",
   "mimetype": "text/x-python",
   "name": "python",
   "nbconvert_exporter": "python",
   "pygments_lexer": "ipython3",
   "version": "3.8.8"
  }
 },
 "nbformat": 4,
 "nbformat_minor": 5
}
